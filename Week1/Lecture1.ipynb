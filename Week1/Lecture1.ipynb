{
 "cells": [
  {
   "cell_type": "code",
   "execution_count": 1,
   "id": "47b52f98-ecd7-4b7c-b96c-d35356506512",
   "metadata": {},
   "outputs": [
    {
     "name": "stdout",
     "output_type": "stream",
     "text": [
      "Not running in Google Colab\n"
     ]
    }
   ],
   "source": [
    "try:\n",
    "  import google.colab\n",
    "  print(\"Setting Up Colab notebook\")\n",
    "  !pip install tensorflow==2.16.1 pennylane matplotlib -q\n",
    "  print(\"Installed Packages\")\n",
    "  import os \n",
    "  if(not os.path.exists(\"../QML-Tutorials\")):\n",
    "    !git clone -b course https://github.com/MPSLab-ASU/QML-Tutorials.git\n",
    "    %cd QML-Tutorials\n",
    "  print(\"Fetched Data\")\n",
    "except ImportError:\n",
    "  print(\"Not running in Google Colab\")"
   ]
  },
  {
   "cell_type": "code",
   "execution_count": 2,
   "id": "4d821c98-e496-4f62-a061-6893eff866e6",
   "metadata": {},
   "outputs": [
    {
     "ename": "ModuleNotFoundError",
     "evalue": "No module named 'utils'",
     "output_type": "error",
     "traceback": [
      "\u001b[0;31m---------------------------------------------------------------------------\u001b[0m",
      "\u001b[0;31mModuleNotFoundError\u001b[0m                       Traceback (most recent call last)",
      "Cell \u001b[0;32mIn[2], line 2\u001b[0m\n\u001b[1;32m      1\u001b[0m \u001b[38;5;28;01mimport\u001b[39;00m \u001b[38;5;21;01mpennylane\u001b[39;00m \u001b[38;5;28;01mas\u001b[39;00m \u001b[38;5;21;01mqml\u001b[39;00m\n\u001b[0;32m----> 2\u001b[0m \u001b[38;5;28;01mfrom\u001b[39;00m \u001b[38;5;21;01mutils\u001b[39;00m \u001b[38;5;28;01mimport\u001b[39;00m output_and_draw\n\u001b[1;32m      3\u001b[0m \u001b[38;5;28;01mimport\u001b[39;00m \u001b[38;5;21;01mmatplotlib\u001b[39;00m\u001b[38;5;21;01m.\u001b[39;00m\u001b[38;5;21;01mpyplot\u001b[39;00m \u001b[38;5;28;01mas\u001b[39;00m \u001b[38;5;21;01mplt\u001b[39;00m\n\u001b[1;32m      4\u001b[0m \u001b[38;5;28;01mimport\u001b[39;00m \u001b[38;5;21;01mnumpy\u001b[39;00m \u001b[38;5;28;01mas\u001b[39;00m \u001b[38;5;21;01mnp\u001b[39;00m\n",
      "\u001b[0;31mModuleNotFoundError\u001b[0m: No module named 'utils'"
     ]
    }
   ],
   "source": [
    "import pennylane as qml\n",
    "from utils.single_qubit import output_and_draw\n",
    "import matplotlib.pyplot as plt\n",
    "import numpy as np\n",
    "%matplotlib inline"
   ]
  },
  {
   "cell_type": "code",
   "execution_count": 1,
   "id": "3964a492-b4e3-4ce3-a271-ad8423903856",
   "metadata": {},
   "outputs": [],
   "source": []
  },
  {
   "cell_type": "code",
   "execution_count": null,
   "id": "f71f42ec-8943-498d-9273-697633295fa9",
   "metadata": {},
   "outputs": [],
   "source": []
  },
  {
   "cell_type": "markdown",
   "id": "e2118b03-dbba-492e-9b63-79eca24490d0",
   "metadata": {},
   "source": [
    "# Basic Single Qubit Gates"
   ]
  },
  {
   "cell_type": "markdown",
   "id": "b1eec4a8-88fd-4945-bfe6-a700fc564324",
   "metadata": {},
   "source": [
    "Basics of Pennylane.\n",
    "* **Device**: In Pennylane, a device is a quantum circuit simulator that can be used to run quantum circuits on various types of quantum computers.\n",
    "* **Wires**: Wires defines the number of qubits\n",
    "\n",
    "We will use the \"default.qubit\" device for these experiments. "
   ]
  },
  {
   "cell_type": "code",
   "execution_count": 25,
   "id": "71615a02-aca7-4107-b15e-118384133e74",
   "metadata": {},
   "outputs": [],
   "source": [
    "dev = qml.device(\"default.qubit\",wires=1)"
   ]
  },
  {
   "cell_type": "markdown",
   "id": "a4c9d7ad-38df-4c3e-b37f-d1a225df3d56",
   "metadata": {},
   "source": [
    "* **Qnode**: A Qnode is a circuit to be executed in pennylane. It decorates a function which encapsulates the circuit."
   ]
  },
  {
   "cell_type": "code",
   "execution_count": 41,
   "id": "78531762-c0b2-4fad-946a-24b8bbaf85e2",
   "metadata": {},
   "outputs": [],
   "source": [
    "@qml.qnode(dev)\n",
    "def circuit(gates:list):\n",
    "    for g in gates:\n",
    "        g(0)\n",
    "    return qml.probs(0)"
   ]
  },
  {
   "cell_type": "markdown",
   "id": "d618e8c1-92af-4e78-b817-23bc06886181",
   "metadata": {},
   "source": [
    "### Hadamard Gate\n",
    "The Hadamard gate (H) is a quantum gate that applies an equal superposition of states to all qubits. The matrix can be seen below.\n",
    "$$H = \\frac{1}{\\sqrt{2}} \\begin{pmatrix} 1 & 1 \\\\ 1 & -1 \\end{pmatrix}$$\n",
    "Applying it to the $\\ket{0}$ and $\\ket{1}$ we get:\n",
    "$$ H\\ket{0} = \\frac{1}{\\sqrt{2}}(\\ket{0}+\\ket{1}) \\quad | \\quad H\\ket{1} = \\frac{1}{\\sqrt{2}}(\\ket{0}-\\ket{1})$$\n",
    "The pennylane code is given below"
   ]
  },
  {
   "cell_type": "code",
   "execution_count": 61,
   "id": "3c739b5d-985f-450e-b50e-6d917be01f77",
   "metadata": {},
   "outputs": [
    {
     "name": "stdout",
     "output_type": "stream",
     "text": [
      "Gate Matrix=\n",
      " [[ 0.70710678  0.70710678]\n",
      " [ 0.70710678 -0.70710678]]\n",
      "Output of the circuit [0.5 0.5]\n"
     ]
    },
    {
     "data": {
      "image/png": "[encoded data removed]",
      "text/plain": [
       "<Figure size 400x200 with 1 Axes>"
      ]
     },
     "metadata": {},
     "output_type": "display_data"
    }
   ],
   "source": [
    "h=qml.Hadamard(0)\n",
    "print(\"Gate Matrix=\\n\",h.matrix())\n",
    "output_and_draw([qml.Hadamard])"
   ]
  },
  {
   "cell_type": "markdown",
   "id": "e61008ad-d50c-49a3-a21a-39d4aad72151",
   "metadata": {},
   "source": [
    "### Pauli-X Gate\n",
    "The Pauli-X gate (X) is a quantum gate that applies a bit flip operation to all qubits, transforming |0〉 to |1〉 and |1〉 to |0〉.\n",
    "$$H = \\begin{pmatrix} 0 & 1 \\\\ 1 & 0 \\end{pmatrix}$$\n",
    "Applying it to the $\\ket{0}$ and $\\ket{1}$ we get:\n",
    "$$ X\\ket{0} = \\ket{1} \\quad | \\quad X\\ket{1} = \\ket{0}$$\n",
    "The pennylane code is given below"
   ]
  },
  {
   "cell_type": "code",
   "execution_count": 55,
   "id": "dc1b864d-7e04-43b5-9bd3-2c7576acd4f7",
   "metadata": {},
   "outputs": [
    {
     "name": "stdout",
     "output_type": "stream",
     "text": [
      "Gate Matrix=\n",
      " [[0 1]\n",
      " [1 0]]\n",
      "Output of the circuit [0. 1.]\n"
     ]
    },
    {
     "data": {
      "image/png": "[encoded data removed]",
      "text/plain": [
       "<Figure size 400x200 with 1 Axes>"
      ]
     },
     "metadata": {},
     "output_type": "display_data"
    }
   ],
   "source": [
    "h=qml.X(0)\n",
    "print(\"Gate Matrix=\\n\",h.matrix())\n",
    "output_and_draw([qml.X])"
   ]
  },
  {
   "cell_type": "markdown",
   "id": "7b0f61dd-fd6f-41aa-8cca-ed8f5236db0a",
   "metadata": {},
   "source": [
    "### Pauli-Y Gate\n",
    "The Pauli-Y gate (Y) is a quantum gate that applies a rotation by π/2 about the y-axis to all qubits.\n",
    "$$Y=\\begin{pmatrix} 0 & -i \\\\ i & 0 \\end{pmatrix}$$\n",
    "Applying it to the $\\ket{0}$ and $\\ket{1}$ we get:\n",
    "$$ X\\ket{0} = i\\ket{1} \\quad | \\quad Y\\ket{1} = -i\\ket{0}$$\n",
    "The pennylane code is given below"
   ]
  },
  {
   "cell_type": "code",
   "execution_count": 56,
   "id": "cce7620e-9112-441d-9ed3-217b80613214",
   "metadata": {},
   "outputs": [
    {
     "name": "stdout",
     "output_type": "stream",
     "text": [
      "Gate Matrix=\n",
      " [[ 0.+0.j -0.-1.j]\n",
      " [ 0.+1.j  0.+0.j]]\n",
      "Output of the circuit [0. 1.]\n"
     ]
    },
    {
     "data": {
      "image/png": "[encoded data removed]",
      "text/plain": [
       "<Figure size 400x200 with 1 Axes>"
      ]
     },
     "metadata": {},
     "output_type": "display_data"
    }
   ],
   "source": [
    "h=qml.Y(0)\n",
    "print(\"Gate Matrix=\\n\",h.matrix())\n",
    "output_and_draw([qml.Y])"
   ]
  },
  {
   "cell_type": "markdown",
   "id": "2a8d694c-50bb-4e33-91b0-dc1d61a919ec",
   "metadata": {},
   "source": [
    "### Pauli-Z Gate\n",
    "The Pauli-Z gate (Z) is a quantum gate that applies a phase flip operation to all qubits.\n",
    "$$Z=\\begin{pmatrix} 1 & 0 \\\\ 0 & -1 \\end{pmatrix}$$\n",
    "Applying it to the $\\ket{0}$ and $\\ket{1}$ we get:\n",
    "$$ Z\\ket{0} = \\ket{0} \\quad | \\quad Z\\ket{1} = \\ket{1}$$\n",
    "**The Z-Gate does not cause any change on the computational basis states**\n",
    "\n",
    "The pennylane code is given below"
   ]
  },
  {
   "cell_type": "code",
   "execution_count": 57,
   "id": "42784450-c26e-47e9-8b4e-7ec2c3597fde",
   "metadata": {},
   "outputs": [
    {
     "name": "stdout",
     "output_type": "stream",
     "text": [
      "Gate Matrix=\n",
      " [[ 1  0]\n",
      " [ 0 -1]]\n",
      "Output of the circuit [1. 0.]\n"
     ]
    },
    {
     "data": {
      "image/png": "[encoded data removed]",
      "text/plain": [
       "<Figure size 400x200 with 1 Axes>"
      ]
     },
     "metadata": {},
     "output_type": "display_data"
    }
   ],
   "source": [
    "h=qml.Z(0)\n",
    "print(\"Gate Matrix=\\n\",h.matrix())\n",
    "output_and_draw([qml.Z])"
   ]
  },
  {
   "cell_type": "markdown",
   "id": "84c19c91-5040-49cc-a50f-1755fe390567",
   "metadata": {},
   "source": [
    "To see the effect of the Z gate, we need to apply it to the $\\ket{+}$ (which is produced by the H gate)"
   ]
  },
  {
   "cell_type": "code",
   "execution_count": 58,
   "id": "22ac7e22-ec9f-4e79-84ec-432a1fb85fb7",
   "metadata": {},
   "outputs": [
    {
     "name": "stdout",
     "output_type": "stream",
     "text": [
      "Output of the circuit [0. 1.]\n"
     ]
    },
    {
     "data": {
      "image/png": "[encoded data removed]",
      "text/plain": [
       "<Figure size 600x200 with 1 Axes>"
      ]
     },
     "metadata": {},
     "output_type": "display_data"
    }
   ],
   "source": [
    "output_and_draw([qml.Hadamard,qml.Z,qml.Hadamard])"
   ]
  },
  {
   "cell_type": "markdown",
   "id": "36943662-5bda-490f-84ac-43396c18ec7d",
   "metadata": {},
   "source": [
    "## Try your own\n",
    "\n",
    "Try passing your own list of operators [found here](https://docs.pennylane.ai/en/stable/introduction/operations.html#non-parametrized-gates) to the **\"output_and_draw\"** function to see what circuits you can create. Try and create the states given in the questions:"
   ]
  },
  {
   "cell_type": "code",
   "execution_count": 1,
   "id": "2f26af86-efe6-4b78-83f6-94695510072e",
   "metadata": {},
   "outputs": [],
   "source": [
    "from utils import draw_and_get_state"
   ]
  },
  {
   "cell_type": "markdown",
   "id": "56e01fbe-e982-4c0f-a396-0358f85ec23d",
   "metadata": {},
   "source": [
    "### Q1. Create the State\n",
    "$$\n",
    "     \\frac{1}{\\sqrt{2}}(\\ket{0}-\\ket{1})\n",
    "$$"
   ]
  },
  {
   "cell_type": "code",
   "execution_count": 14,
   "id": "802a49c4-cf15-4bbf-80dc-284fdc4b6082",
   "metadata": {},
   "outputs": [],
   "source": [
    "## Add Your code here\n"
   ]
  },
  {
   "cell_type": "markdown",
   "id": "524cb607-d708-48c5-9dbd-2e159869962f",
   "metadata": {},
   "source": [
    "### Q2. Create the State\n",
    "$$\n",
    "      -i\\ket{0}\n",
    "$$"
   ]
  },
  {
   "cell_type": "code",
   "execution_count": 15,
   "id": "4e29fccf-03df-44fc-a05c-4a17ebe12c56",
   "metadata": {},
   "outputs": [],
   "source": [
    "## Add Your code here\n"
   ]
  },
  {
   "cell_type": "markdown",
   "id": "f0c35ffc-fc1f-4db1-b3f2-469e0a2cb16f",
   "metadata": {},
   "source": [
    "### Q3. Create the State\n",
    "$$\n",
    "      i\\ket{0} -i \\ket{1}\n",
    "$$"
   ]
  },
  {
   "cell_type": "code",
   "execution_count": 16,
   "id": "4a9c29d5-a74c-4e33-a007-613e86388f82",
   "metadata": {},
   "outputs": [],
   "source": [
    "## Add Your code here\n"
   ]
  }
 ],
 "metadata": {
  "kernelspec": {
   "display_name": "Python 3 (ipykernel)",
   "language": "python",
   "name": "python3"
  },
  "language_info": {
   "codemirror_mode": {
    "name": "ipython",
    "version": 3
   },
   "file_extension": ".py",
   "mimetype": "text/x-python",
   "name": "python",
   "nbconvert_exporter": "python",
   "pygments_lexer": "ipython3",
   "version": "3.12.5"
  }
 },
 "nbformat": 4,
 "nbformat_minor": 5
}
