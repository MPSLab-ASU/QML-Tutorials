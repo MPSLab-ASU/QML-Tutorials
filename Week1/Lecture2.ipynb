{
 "cells": [
  {
   "cell_type": "code",
   "execution_count": 2,
   "id": "306e2782-a08d-403b-ab08-3d83a1413595",
   "metadata": {},
   "outputs": [
    {
     "name": "stdout",
     "output_type": "stream",
     "text": [
      "Not running in Google Colab\n"
     ]
    }
   ],
   "source": [
    "try:\n",
    "  import google.colab\n",
    "  print(\"Setting Up Colab notebook\")\n",
    "  !pip install tensorflow==2.16.1 pennylane matplotlib -q\n",
    "  print(\"Installed Packages\")\n",
    "  import os \n",
    "  if(not os.path.exists(\"../QML-Tutorials\")):\n",
    "    !git clone -b course https://github.com/MPSLab-ASU/QML-Tutorials.git\n",
    "    %cd QML-Tutorials\n",
    "  print(\"Fetched Data\")\n",
    "except ImportError:\n",
    "  print(\"Not running in Google Colab\")"
   ]
  },
  {
   "cell_type": "code",
   "execution_count": 3,
   "id": "a4a4aee6-867c-4b00-8d81-a2e2601c30e5",
   "metadata": {},
   "outputs": [],
   "source": [
    "import pennylane as qml\n",
    "from utils import output_and_draw\n",
    "import matplotlib.pyplot as plt\n",
    "import numpy as np\n",
    "%matplotlib inline"
   ]
  },
  {
   "cell_type": "code",
   "execution_count": null,
   "id": "14567f05-720d-4873-b940-61fc61edbe07",
   "metadata": {},
   "outputs": [],
   "source": []
  }
 ],
 "metadata": {
  "kernelspec": {
   "display_name": "Python 3 (ipykernel)",
   "language": "python",
   "name": "python3"
  },
  "language_info": {
   "codemirror_mode": {
    "name": "ipython",
    "version": 3
   },
   "file_extension": ".py",
   "mimetype": "text/x-python",
   "name": "python",
   "nbconvert_exporter": "python",
   "pygments_lexer": "ipython3",
   "version": "3.12.5"
  }
 },
 "nbformat": 4,
 "nbformat_minor": 5
}
