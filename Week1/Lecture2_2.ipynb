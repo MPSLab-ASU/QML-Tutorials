{
 "cells": [
  {
   "cell_type": "code",
   "execution_count": 1,
   "id": "a406e393-a38c-4b84-9c1a-7ded226c8020",
   "metadata": {},
   "outputs": [
    {
     "name": "stdout",
     "output_type": "stream",
     "text": [
      "Not running in Google Colab\n"
     ]
    }
   ],
   "source": [
    "try:\n",
    "  import google.colab\n",
    "  print(\"Setting Up Colab notebook\")\n",
    "  !pip install tensorflow==2.16.1 pennylane matplotlib -q\n",
    "  print(\"Installed Packages\")\n",
    "  import os \n",
    "  if(not os.path.exists(\"../QML-Tutorials\")):\n",
    "    !git clone -b course https://github.com/MPSLab-ASU/QML-Tutorials.git\n",
    "    %cd QML-Tutorials\n",
    "  print(\"Fetched Data\")\n",
    "except ImportError:\n",
    "  print(\"Not running in Google Colab\")"
   ]
  },
  {
   "cell_type": "code",
   "execution_count": 2,
   "id": "3dd7ea25-a652-4f08-a804-1dbf97dd404d",
   "metadata": {},
   "outputs": [],
   "source": [
    "import pennylane as qml\n",
    "import matplotlib.pyplot as plt\n",
    "import numpy as np\n",
    "from utils.two_qubit import decompose_and_plot, draw_and_get_state\n",
    "%matplotlib inline"
   ]
  },
  {
   "cell_type": "code",
   "execution_count": null,
   "id": "c53df364-e809-4faf-b649-bdd80fbd1ce1",
   "metadata": {},
   "outputs": [],
   "source": []
  }
 ],
 "metadata": {
  "kernelspec": {
   "display_name": "Python 3 (ipykernel)",
   "language": "python",
   "name": "python3"
  },
  "language_info": {
   "codemirror_mode": {
    "name": "ipython",
    "version": 3
   },
   "file_extension": ".py",
   "mimetype": "text/x-python",
   "name": "python",
   "nbconvert_exporter": "python",
   "pygments_lexer": "ipython3",
   "version": "3.12.5"
  }
 },
 "nbformat": 4,
 "nbformat_minor": 5
}
