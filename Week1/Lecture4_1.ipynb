{
 "cells": [
  {
   "cell_type": "code",
   "execution_count": 1,
   "id": "2cb82c78-3a08-48fb-a295-80864b926dc1",
   "metadata": {},
   "outputs": [
    {
     "name": "stdout",
     "output_type": "stream",
     "text": [
      "Not running in Google Colab\n"
     ]
    }
   ],
   "source": [
    "try:\n",
    "  import google.colab\n",
    "  print(\"Setting Up Colab notebook\")\n",
    "  !pip install tensorflow==2.16.1 pennylane matplotlib -q\n",
    "  print(\"Installed Packages\")\n",
    "  import os \n",
    "  if(not os.path.exists(\"../QML-Tutorials\")):\n",
    "    !git clone -b course https://github.com/MPSLab-ASU/QML-Tutorials.git\n",
    "    %cd QML-Tutorials\n",
    "  print(\"Fetched Data\")\n",
    "except ImportError:\n",
    "  print(\"Not running in Google Colab\")"
   ]
  },
  {
   "cell_type": "code",
   "execution_count": 2,
   "id": "3c4d6c82-fb2c-48bc-abaf-78288bb8bce9",
   "metadata": {},
   "outputs": [],
   "source": [
    "import pennylane as qml\n",
    "import matplotlib.pyplot as plt\n",
    "import numpy as np\n",
    "from utils.two_qubit import decompose_and_plot, draw_and_get_state\n",
    "%matplotlib inline"
   ]
  },
  {
   "cell_type": "markdown",
   "id": "bb45988f-28a6-440c-90d9-25882fd1a0f7",
   "metadata": {},
   "source": [
    "# Entanglement "
   ]
  },
  {
   "cell_type": "code",
   "execution_count": null,
   "id": "08eef21c-64f3-48d7-9f05-753971b99567",
   "metadata": {},
   "outputs": [],
   "source": [
    "draw_and_get_state([qml.IsingYY(np.pi/2,[0,1])])"
   ]
  }
 ],
 "metadata": {
  "kernelspec": {
   "display_name": "Python 3 (ipykernel)",
   "language": "python",
   "name": "python3"
  },
  "language_info": {
   "codemirror_mode": {
    "name": "ipython",
    "version": 3
   },
   "file_extension": ".py",
   "mimetype": "text/x-python",
   "name": "python",
   "nbconvert_exporter": "python",
   "pygments_lexer": "ipython3",
   "version": "3.12.5"
  }
 },
 "nbformat": 4,
 "nbformat_minor": 5
}
