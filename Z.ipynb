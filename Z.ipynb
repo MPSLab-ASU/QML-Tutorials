{
 "cells": [
  {
   "cell_type": "code",
   "execution_count": 48,
   "id": "257b89dc-72cb-4396-a4ee-717141481ab8",
   "metadata": {},
   "outputs": [],
   "source": [
    "import pennylane as qml\n",
    "import numpy as np\n",
    "from matplotlib import pyplot as plt \n",
    "import sympy as sp\n",
    "from sympy import sin, pi, cos, I\n",
    "from sympy.solvers import solve"
   ]
  },
  {
   "cell_type": "code",
   "execution_count": 2,
   "id": "c4492a61-ef49-4b25-9597-3b2ae2b0c974",
   "metadata": {},
   "outputs": [],
   "source": [
    "dev = qml.device(\"lightning.qubit\",wires=1)"
   ]
  },
  {
   "cell_type": "code",
   "execution_count": 116,
   "id": "ff3e6068-f54b-4adc-88ac-a5be1b0878f3",
   "metadata": {},
   "outputs": [],
   "source": [
    "@qml.qnode(dev)\n",
    "def Z_test(y,x):\n",
    "    # qml.Hadamard(0)\n",
    "    qml.RY(y,0)\n",
    "    # qml.Hadamard(0)\n",
    "    qml.RX(x,0)\n",
    "    # qml.Hadamard(0)\n",
    "    # qml.RX(np.pi,0)\n",
    "    return qml.probs(0)"
   ]
  },
  {
   "cell_type": "code",
   "execution_count": 117,
   "id": "b412ffe4-7112-4fd0-9821-3eae45338d9a",
   "metadata": {},
   "outputs": [
    {
     "name": "stdout",
     "output_type": "stream",
     "text": [
      "0: ──RY(2.00)──RX(1.00)─┤  Probs\n"
     ]
    }
   ],
   "source": [
    "print(qml.draw(Z_test)(2,1))"
   ]
  },
  {
   "cell_type": "markdown",
   "id": "fbb087c2-4da0-45e9-9201-061de37b83d2",
   "metadata": {},
   "source": [
    "Testing Different values"
   ]
  },
  {
   "cell_type": "code",
   "execution_count": 118,
   "id": "e38c7c0e-adf7-4f55-a75e-440c143945c0",
   "metadata": {},
   "outputs": [
    {
     "name": "stdout",
     "output_type": "stream",
     "text": [
      "y:0.9959,x:0.9301 - > (0.6625270329374922, 0.33747296706250796)\n",
      "y:0.9959,x:0.7351 - > (0.7016646070788513, 0.29833539292114886)\n",
      "y:0.9959,x:0.5058 - > (0.7378362855131825, 0.2621637144868176)\n",
      "y:0.5592,x:0.6691 - > (0.8324418773671663, 0.16755812263283368)\n",
      "y:0.5592,x:0.7797 - > (0.801408316350577, 0.19859168364942317)\n",
      "y:0.5592,x:0.3297 - > (0.9010102852692703, 0.09898971473072976)\n",
      "y:0.3591,x:0.8659 - > (0.8033106494599209, 0.19668935054007905)\n",
      "y:0.3591,x:0.5263 - > (0.9047633722596343, 0.09523662774036566)\n",
      "y:0.3591,x:0.6241 - > (0.8798609546747915, 0.1201390453252083)\n"
     ]
    }
   ],
   "source": [
    "for i in range(3):\n",
    "    y = np.random.random_sample()\n",
    "    for j in range(3):\n",
    "        x = np.random.random_sample()\n",
    "        print(f\"y:{y:.4f},x:{x:.4f} - > {*Z_test(y,x),}\")"
   ]
  },
  {
   "cell_type": "code",
   "execution_count": 98,
   "id": "e4436174-8458-41ce-bdcd-9355ab9952d2",
   "metadata": {},
   "outputs": [
    {
     "data": {
      "text/plain": [
       "array([0.34120914, 0.65879086])"
      ]
     },
     "execution_count": 98,
     "metadata": {},
     "output_type": "execute_result"
    }
   ],
   "source": [
    "Z_test()"
   ]
  },
  {
   "cell_type": "code",
   "execution_count": 120,
   "id": "c59372e4-6f22-43f4-86ab-538ff47c9cc9",
   "metadata": {},
   "outputs": [
    {
     "name": "stdout",
     "output_type": "stream",
     "text": [
      "0: ──RY(0.79)──RX(0.79)─┤  Probs\n"
     ]
    }
   ],
   "source": [
    "print(qml.draw(Z_test)(np.pi/4,np.pi/4))"
   ]
  },
  {
   "cell_type": "code",
   "execution_count": 119,
   "id": "ea96b485-6259-478b-b776-c46bb16939ea",
   "metadata": {},
   "outputs": [
    {
     "data": {
      "text/plain": [
       "array([0.75, 0.25])"
      ]
     },
     "execution_count": 119,
     "metadata": {},
     "output_type": "execute_result"
    }
   ],
   "source": [
    "Z_test(np.pi/4,np.pi/4)"
   ]
  },
  {
   "cell_type": "markdown",
   "id": "0dfddb59-5796-4172-b5b4-68788327c1da",
   "metadata": {},
   "source": [
    "## MatMults"
   ]
  },
  {
   "cell_type": "code",
   "execution_count": 28,
   "id": "917a5440-e7ab-4af5-9923-9d4eea98c16f",
   "metadata": {},
   "outputs": [
    {
     "data": {
      "text/latex": [
       "$\\displaystyle 5$"
      ],
      "text/plain": [
       "5"
      ]
     },
     "execution_count": 28,
     "metadata": {},
     "output_type": "execute_result"
    }
   ],
   "source": [
    "sp.im(5*I)"
   ]
  },
  {
   "cell_type": "code",
   "execution_count": 18,
   "id": "bf72630a-0c85-4ca6-8215-d12cf03bdb1a",
   "metadata": {},
   "outputs": [],
   "source": [
    "x = sp.Symbol(\"x\")\n",
    "t = sp.Symbol(\"t\")"
   ]
  },
  {
   "cell_type": "code",
   "execution_count": 72,
   "id": "e0e8d310-d4b2-4264-a0fa-3047f613d03b",
   "metadata": {},
   "outputs": [
    {
     "name": "stdout",
     "output_type": "stream",
     "text": [
      "Matrix([[cos(x/2), -sin(x/2)], [sin(x/2), cos(x/2)]])\n"
     ]
    }
   ],
   "source": [
    "ry = sp.Matrix([[cos(x/2),-sin(x/2)],[sin(x/2),cos(x/2)]])\n",
    "print(ry)"
   ]
  },
  {
   "cell_type": "code",
   "execution_count": 69,
   "id": "1492d12a-25aa-47fa-987e-2461d1349856",
   "metadata": {},
   "outputs": [
    {
     "name": "stdout",
     "output_type": "stream",
     "text": [
      "Matrix([[cos(t/2), -I*sin(t/2)], [-I*sin(t/2), cos(t/2)]])\n"
     ]
    }
   ],
   "source": [
    "rx = sp.Matrix([[cos(t/2),-sin(t/2)*I],[-sin(t/2)*I,cos(t/2)]])\n",
    "print(rx)"
   ]
  },
  {
   "cell_type": "code",
   "execution_count": 73,
   "id": "ab84368a-51f1-402b-b4e8-bae2e058613b",
   "metadata": {},
   "outputs": [
    {
     "data": {
      "text/latex": [
       "$\\displaystyle \\left[\\begin{matrix}\\cos{\\left(\\frac{x}{2} \\right)} & - \\sin{\\left(\\frac{x}{2} \\right)}\\\\\\sin{\\left(\\frac{x}{2} \\right)} & \\cos{\\left(\\frac{x}{2} \\right)}\\end{matrix}\\right]$"
      ],
      "text/plain": [
       "Matrix([\n",
       "[cos(x/2), -sin(x/2)],\n",
       "[sin(x/2),  cos(x/2)]])"
      ]
     },
     "execution_count": 73,
     "metadata": {},
     "output_type": "execute_result"
    }
   ],
   "source": [
    "ry"
   ]
  },
  {
   "cell_type": "code",
   "execution_count": 74,
   "id": "5256db58-0451-4361-b632-167d59da276f",
   "metadata": {},
   "outputs": [
    {
     "data": {
      "text/latex": [
       "$\\displaystyle \\left[\\begin{matrix}\\cos{\\left(\\frac{t}{2} \\right)} & - i \\sin{\\left(\\frac{t}{2} \\right)}\\\\- i \\sin{\\left(\\frac{t}{2} \\right)} & \\cos{\\left(\\frac{t}{2} \\right)}\\end{matrix}\\right]$"
      ],
      "text/plain": [
       "Matrix([\n",
       "[   cos(t/2), -I*sin(t/2)],\n",
       "[-I*sin(t/2),    cos(t/2)]])"
      ]
     },
     "execution_count": 74,
     "metadata": {},
     "output_type": "execute_result"
    }
   ],
   "source": [
    "rx"
   ]
  },
  {
   "cell_type": "code",
   "execution_count": 75,
   "id": "7c445b2c-d47f-4edb-841b-c05ddae7d097",
   "metadata": {},
   "outputs": [],
   "source": [
    "U = np.matmul(rx,ry)"
   ]
  },
  {
   "cell_type": "code",
   "execution_count": 76,
   "id": "be9edb99-0a0a-4c0a-802c-31cdc3734cee",
   "metadata": {},
   "outputs": [],
   "source": [
    "U_simp  = sp.simplify(U)"
   ]
  },
  {
   "cell_type": "code",
   "execution_count": 77,
   "id": "3dbb330f-d20d-4b0d-984d-f5fac2767230",
   "metadata": {},
   "outputs": [
    {
     "data": {
      "text/latex": [
       "$\\displaystyle \\left[\\begin{matrix}- i \\sin{\\left(\\frac{t}{2} \\right)} \\sin{\\left(\\frac{x}{2} \\right)} + \\cos{\\left(\\frac{t}{2} \\right)} \\cos{\\left(\\frac{x}{2} \\right)} & - i \\sin{\\left(\\frac{t}{2} \\right)} \\cos{\\left(\\frac{x}{2} \\right)} - \\sin{\\left(\\frac{x}{2} \\right)} \\cos{\\left(\\frac{t}{2} \\right)}\\\\- i \\sin{\\left(\\frac{t}{2} \\right)} \\cos{\\left(\\frac{x}{2} \\right)} + \\sin{\\left(\\frac{x}{2} \\right)} \\cos{\\left(\\frac{t}{2} \\right)} & i \\sin{\\left(\\frac{t}{2} \\right)} \\sin{\\left(\\frac{x}{2} \\right)} + \\cos{\\left(\\frac{t}{2} \\right)} \\cos{\\left(\\frac{x}{2} \\right)}\\end{matrix}\\right]$"
      ],
      "text/plain": [
       "[[-I*sin(t/2)*sin(x/2) + cos(t/2)*cos(x/2), -I*sin(t/2)*cos(x/2) - sin(x/2)*cos(t/2)], [-I*sin(t/2)*cos(x/2) + sin(x/2)*cos(t/2), I*sin(t/2)*sin(x/2) + cos(t/2)*cos(x/2)]]"
      ]
     },
     "execution_count": 77,
     "metadata": {},
     "output_type": "execute_result"
    }
   ],
   "source": [
    "U_simp"
   ]
  },
  {
   "cell_type": "code",
   "execution_count": 78,
   "id": "65bdced4-69ed-492f-ae39-91a7616e0316",
   "metadata": {},
   "outputs": [],
   "source": [
    "state = U_simp[:,0]"
   ]
  },
  {
   "cell_type": "code",
   "execution_count": 79,
   "id": "345f223d-0117-4be6-aa42-58cf671323bb",
   "metadata": {},
   "outputs": [
    {
     "data": {
      "text/latex": [
       "$\\displaystyle \\left[\\begin{matrix}- i \\sin{\\left(\\frac{t}{2} \\right)} \\sin{\\left(\\frac{x}{2} \\right)} + \\cos{\\left(\\frac{t}{2} \\right)} \\cos{\\left(\\frac{x}{2} \\right)} & - i \\sin{\\left(\\frac{t}{2} \\right)} \\cos{\\left(\\frac{x}{2} \\right)} + \\sin{\\left(\\frac{x}{2} \\right)} \\cos{\\left(\\frac{t}{2} \\right)}\\end{matrix}\\right]$"
      ],
      "text/plain": [
       "[-I*sin(t/2)*sin(x/2) + cos(t/2)*cos(x/2), -I*sin(t/2)*cos(x/2) + sin(x/2)*cos(t/2)]"
      ]
     },
     "execution_count": 79,
     "metadata": {},
     "output_type": "execute_result"
    }
   ],
   "source": [
    "state"
   ]
  },
  {
   "cell_type": "code",
   "execution_count": 80,
   "id": "9ea2e5bb-0d62-4cd8-9a30-1bbbd183941d",
   "metadata": {},
   "outputs": [
    {
     "data": {
      "text/latex": [
       "$\\displaystyle - i \\sin{\\left(\\frac{t}{2} \\right)} \\sin{\\left(\\frac{x}{2} \\right)} + \\cos{\\left(\\frac{t}{2} \\right)} \\cos{\\left(\\frac{x}{2} \\right)}$"
      ],
      "text/plain": [
       "-I*sin(t/2)*sin(x/2) + cos(t/2)*cos(x/2)"
      ]
     },
     "execution_count": 80,
     "metadata": {},
     "output_type": "execute_result"
    }
   ],
   "source": [
    "sp.trigsimp(U_simp[0][0])"
   ]
  },
  {
   "cell_type": "code",
   "execution_count": 81,
   "id": "41b3da79-c281-434e-af86-334cf9befddb",
   "metadata": {},
   "outputs": [],
   "source": [
    "equality = sp.Abs(state[0])**2 + sp.Abs(state[1])**2"
   ]
  },
  {
   "cell_type": "code",
   "execution_count": 82,
   "id": "7407be16-813a-4940-b156-fa4c3a9aafa8",
   "metadata": {},
   "outputs": [
    {
     "data": {
      "text/latex": [
       "$\\displaystyle \\left|{i \\sin{\\left(\\frac{t}{2} \\right)} \\sin{\\left(\\frac{x}{2} \\right)} - \\cos{\\left(\\frac{t}{2} \\right)} \\cos{\\left(\\frac{x}{2} \\right)}}\\right|^{2} + \\left|{i \\sin{\\left(\\frac{t}{2} \\right)} \\cos{\\left(\\frac{x}{2} \\right)} - \\sin{\\left(\\frac{x}{2} \\right)} \\cos{\\left(\\frac{t}{2} \\right)}}\\right|^{2}$"
      ],
      "text/plain": [
       "Abs(I*sin(t/2)*sin(x/2) - cos(t/2)*cos(x/2))**2 + Abs(I*sin(t/2)*cos(x/2) - sin(x/2)*cos(t/2))**2"
      ]
     },
     "execution_count": 82,
     "metadata": {},
     "output_type": "execute_result"
    }
   ],
   "source": [
    "equality"
   ]
  },
  {
   "cell_type": "code",
   "execution_count": 84,
   "id": "d6a72717-7e46-404a-8e38-92dc9e38952f",
   "metadata": {},
   "outputs": [],
   "source": [
    "abs_ket0 = (cos(x/2)* cos(t/2))**2 + (sin(x/2)* sin(t/2))**2"
   ]
  },
  {
   "cell_type": "code",
   "execution_count": 85,
   "id": "52899354-03f4-46cc-99f3-faaeb330d993",
   "metadata": {},
   "outputs": [
    {
     "data": {
      "text/latex": [
       "$\\displaystyle \\sin^{2}{\\left(\\frac{t}{2} \\right)} \\sin^{2}{\\left(\\frac{x}{2} \\right)} + \\cos^{2}{\\left(\\frac{t}{2} \\right)} \\cos^{2}{\\left(\\frac{x}{2} \\right)}$"
      ],
      "text/plain": [
       "sin(t/2)**2*sin(x/2)**2 + cos(t/2)**2*cos(x/2)**2"
      ]
     },
     "execution_count": 85,
     "metadata": {},
     "output_type": "execute_result"
    }
   ],
   "source": [
    "abs_ket0"
   ]
  },
  {
   "cell_type": "code",
   "execution_count": 86,
   "id": "71816941-8257-473a-89ec-e1aa3e894a86",
   "metadata": {},
   "outputs": [
    {
     "data": {
      "text/latex": [
       "$\\displaystyle \\frac{\\cos{\\left(t - x \\right)}}{4} + \\frac{\\cos{\\left(t + x \\right)}}{4} + \\frac{1}{2}$"
      ],
      "text/plain": [
       "cos(t - x)/4 + cos(t + x)/4 + 1/2"
      ]
     },
     "execution_count": 86,
     "metadata": {},
     "output_type": "execute_result"
    }
   ],
   "source": [
    "sp.trigsimp(abs_ket0)"
   ]
  },
  {
   "cell_type": "code",
   "execution_count": null,
   "id": "a918e8e0-7aad-4056-a744-5dacc79dfc33",
   "metadata": {},
   "outputs": [],
   "source": []
  },
  {
   "cell_type": "code",
   "execution_count": null,
   "id": "5de889b6-0d08-4bad-9094-acc38ef5db4f",
   "metadata": {},
   "outputs": [],
   "source": []
  }
 ],
 "metadata": {
  "kernelspec": {
   "display_name": "Python 3 (ipykernel)",
   "language": "python",
   "name": "python3"
  },
  "language_info": {
   "codemirror_mode": {
    "name": "ipython",
    "version": 3
   },
   "file_extension": ".py",
   "mimetype": "text/x-python",
   "name": "python",
   "nbconvert_exporter": "python",
   "pygments_lexer": "ipython3",
   "version": "3.11.9"
  }
 },
 "nbformat": 4,
 "nbformat_minor": 5
}
